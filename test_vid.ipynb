{
 "cells": [
  {
   "cell_type": "code",
   "execution_count": 7,
   "metadata": {},
   "outputs": [],
   "source": [
    "import torch\n",
    "import cv2\n",
    "import matplotlib.pyplot as plt\n",
    "import numpy as np\n",
    "\n",
    "DEVICE = \"mps\""
   ]
  },
  {
   "cell_type": "code",
   "execution_count": 11,
   "metadata": {},
   "outputs": [
    {
     "data": {
      "text/plain": [
       "(1, 16, 16, 3)"
      ]
     },
     "execution_count": 11,
     "metadata": {},
     "output_type": "execute_result"
    }
   ],
   "source": [
    "a = [np.ones((16,16,3))]\n",
    "np.stack(a).shape"
   ]
  },
  {
   "cell_type": "markdown",
   "metadata": {},
   "source": [
    "# Pose 2D Model"
   ]
  },
  {
   "cell_type": "code",
   "execution_count": 3,
   "metadata": {},
   "outputs": [
    {
     "name": "stderr",
     "output_type": "stream",
     "text": [
      "/Users/uinone/Desktop/AlphaPose/.venv/lib/python3.10/site-packages/torchvision/models/_utils.py:208: UserWarning: The parameter 'pretrained' is deprecated since 0.13 and may be removed in the future, please use 'weights' instead.\n",
      "  warnings.warn(\n",
      "/Users/uinone/Desktop/AlphaPose/.venv/lib/python3.10/site-packages/torchvision/models/_utils.py:223: UserWarning: Arguments other than a weight enum or `None` for 'weights' are deprecated since 0.13 and may be removed in the future. The current behavior is equivalent to passing `weights=ResNet50_Weights.IMAGENET1K_V1`. You can also use `weights=ResNet50_Weights.DEFAULT` to get the most up-to-date weights.\n",
      "  warnings.warn(msg)\n",
      "/Users/uinone/Desktop/AlphaPose/simple_pose2d_model.py:24: FutureWarning: You are using `torch.load` with `weights_only=False` (the current default value), which uses the default pickle module implicitly. It is possible to construct malicious pickle data which will execute arbitrary code during unpickling (See https://github.com/pytorch/pytorch/blob/main/SECURITY.md#untrusted-models for more details). In a future release, the default value for `weights_only` will be flipped to `True`. This limits the functions that could be executed during unpickling. Arbitrary objects will no longer be allowed to be loaded via this mode unless they are explicitly allowlisted by the user via `torch.serialization.add_safe_globals`. We recommend you start setting `weights_only=True` for any use case where you don't have full control of the loaded file. Please open an issue on GitHub for any issues related to this experimental feature.\n",
      "  torch.load(pose2d_checkpoint_path, map_location=device)\n"
     ]
    },
    {
     "name": "stdout",
     "output_type": "stream",
     "text": [
      "2D Pose model ready!\n"
     ]
    }
   ],
   "source": [
    "from simple_pose2d_model import get_pose2d_model\n",
    "\n",
    "pose2d_model_config, pose2d_model = get_pose2d_model(\n",
    "    pose2d_model_config_path=\"configs/halpe_26/resnet/256x192_res50_lr1e-3_1x.yaml\",\n",
    "    pose2d_checkpoint_path=\"pretrained_models/halpe26_fast_res50_256x192.pth\",\n",
    "    device=DEVICE\n",
    ")"
   ]
  },
  {
   "cell_type": "markdown",
   "metadata": {},
   "source": [
    "# Detection Model"
   ]
  },
  {
   "cell_type": "code",
   "execution_count": 4,
   "metadata": {},
   "outputs": [],
   "source": [
    "from simple_detection_loader import get_detection_model\n",
    "\n",
    "detection_model = get_detection_model(\n",
    "    device=DEVICE, \n",
    "    pose2d_model_config=pose2d_model_config\n",
    ")"
   ]
  },
  {
   "cell_type": "markdown",
   "metadata": {},
   "source": [
    "# Pose 3D Model"
   ]
  },
  {
   "cell_type": "code",
   "execution_count": 5,
   "metadata": {},
   "outputs": [
    {
     "name": "stderr",
     "output_type": "stream",
     "text": [
      "/Users/uinone/Desktop/AlphaPose/simple_pose3d_model.py:30: FutureWarning: You are using `torch.load` with `weights_only=False` (the current default value), which uses the default pickle module implicitly. It is possible to construct malicious pickle data which will execute arbitrary code during unpickling (See https://github.com/pytorch/pytorch/blob/main/SECURITY.md#untrusted-models for more details). In a future release, the default value for `weights_only` will be flipped to `True`. This limits the functions that could be executed during unpickling. Arbitrary objects will no longer be allowed to be loaded via this mode unless they are explicitly allowlisted by the user via `torch.serialization.add_safe_globals`. We recommend you start setting `weights_only=True` for any use case where you don't have full control of the loaded file. Please open an issue on GitHub for any issues related to this experimental feature.\n",
      "  checkpoint_ = torch.load(pose3d_weight_path, map_location=lambda storage, loc: storage)\n"
     ]
    },
    {
     "name": "stdout",
     "output_type": "stream",
     "text": [
      "3D pose model ready!\n"
     ]
    }
   ],
   "source": [
    "from simple_pose3d_model import get_pose3d_model\n",
    "\n",
    "pose3d_model = get_pose3d_model(\n",
    "    pose3d_config_path=\"MotionBERT/configs/pose3d/MB_ft_h36m.yaml\",\n",
    "    pose3d_weight_path=\"MotionBERT/weights/MB_ft_h36m.bin\",\n",
    "    device=DEVICE\n",
    ")"
   ]
  },
  {
   "cell_type": "markdown",
   "metadata": {},
   "source": [
    "# DataWriter"
   ]
  },
  {
   "cell_type": "code",
   "execution_count": 6,
   "metadata": {},
   "outputs": [],
   "source": [
    "from simpe_datawriter import DataWriter\n",
    "from simple_detection_loader import DetectionOpt"
   ]
  },
  {
   "cell_type": "code",
   "execution_count": 7,
   "metadata": {},
   "outputs": [],
   "source": [
    "pose2d_estimator = DataWriter(\n",
    "    pose2d_model_config, \n",
    "    DetectionOpt(DEVICE)\n",
    ")"
   ]
  },
  {
   "cell_type": "markdown",
   "metadata": {},
   "source": [
    "# Visualize"
   ]
  },
  {
   "cell_type": "code",
   "execution_count": null,
   "metadata": {},
   "outputs": [],
   "source": [
    "import time\n",
    "def vid_frame():\n",
    "    cap = cv2.VideoCapture(\"examples/demo/custom_example_6.mp4\")\n",
    "    while True:\n",
    "        ret, img = cap.read()\n",
    "\n",
    "        if not ret:\n",
    "            break\n",
    "            \n",
    "        yield img"
   ]
  },
  {
   "cell_type": "code",
   "execution_count": 2,
   "metadata": {},
   "outputs": [],
   "source": [
    "import time\n",
    "def webcam_recorder(sec: float = 5, save_path:str = None):\n",
    "    cam = cv2.VideoCapture(0)\n",
    "\n",
    "    frames = []\n",
    "\n",
    "    if save_path is not None:\n",
    "        frame_width = int(cam.get(cv2.CAP_PROP_FRAME_WIDTH))\n",
    "        frame_height = int(cam.get(cv2.CAP_PROP_FRAME_HEIGHT))\n",
    "\n",
    "        fourcc = cv2.VideoWriter_fourcc(*'mp4v')\n",
    "        out = cv2.VideoWriter('output.mp4', fourcc, 25.0, (frame_width, frame_height))\n",
    "\n",
    "        start = time.time()\n",
    "        end = time.time()\n",
    "        while (end - start) < sec:\n",
    "            ret, img = cam.read()\n",
    "            \n",
    "            frames.append(img)\n",
    "            out.write(img)\n",
    "\n",
    "            if not ret:\n",
    "                break\n",
    "\n",
    "            end = time.time()\n",
    "\n",
    "        out.release()\n",
    "    else:\n",
    "        print(\"FPS :\", cam.get(cv2.CAP_PROP_FPS))\n",
    "\n",
    "        start = time.time()\n",
    "        end = time.time()\n",
    "        while (end - start) < sec:\n",
    "            ret, img = cam.read()\n",
    "\n",
    "            frames.append(img)\n",
    "\n",
    "            if not ret:\n",
    "                break\n",
    "\n",
    "            end = time.time()\n",
    "\n",
    "    cam.release()\n",
    "    \n",
    "    return frames"
   ]
  },
  {
   "cell_type": "code",
   "execution_count": 3,
   "metadata": {},
   "outputs": [
    {
     "name": "stderr",
     "output_type": "stream",
     "text": [
      "2024-11-12 14:07:31.519 python[16062:165259] WARNING: AVCaptureDeviceTypeExternal is deprecated for Continuity Cameras. Please use AVCaptureDeviceTypeContinuityCamera and add NSCameraUseContinuityCameraDeviceType to your Info.plist.\n"
     ]
    },
    {
     "name": "stdout",
     "output_type": "stream",
     "text": [
      "FPS : 15.0\n"
     ]
    }
   ],
   "source": [
    "frames = webcam_recorder(sec=5)"
   ]
  },
  {
   "cell_type": "code",
   "execution_count": 6,
   "metadata": {},
   "outputs": [
    {
     "data": {
      "text/plain": [
       "(151, 1080, 1920, 3)"
      ]
     },
     "execution_count": 6,
     "metadata": {},
     "output_type": "execute_result"
    }
   ],
   "source": [
    "np.stack(frames).shape"
   ]
  },
  {
   "cell_type": "code",
   "execution_count": 9,
   "metadata": {},
   "outputs": [
    {
     "name": "stdout",
     "output_type": "stream",
     "text": [
      "Loading YOLO model..\n",
      "1 2 3 4 5 6 7 8 9 10 11 12 13 14 15 16 17 18 19 20 21 22 23 24 25 26 27 28 29 30 31 32 33 34 35 36 37 38 39 40 41 42 43 44 45 46 47 48 49 50 51 52 53 54 55 56 57 58 59 60 61 62 63 64 65 66 67 68 69 70 71 72 73 74 75 76 77 78 79 80 81 82 83 84 85 86 87 88 89 90 91 92 93 94 95 96 97 98 99 100 101 102 103 104 105 106 107 108 109 110 111 112 113 114 115 116 117 118 119 120 121 122 123 124 125 126 127 128 129 130 131 132 133 134 135 136 137 138 139 140 141 142 143 144 145 146 147 148 149 150 151 152 153 154 155 156 157 158 159 160 161 162 163 164 165 166 167 168 169 170 171 172 173 174 175 176 177 178 179 180 181 182 183 184 185 186 187 188 189 190 191 192 193 194 195 196 197 198 199 200 201 202 203 204 205 206 207 208 209 210 211 212 213 214 215 216 217 218 219 220 221 222 223 224 225 226 227 228 229 230 231 232 233 234 235 236 237 238 239 240 241 242 243 244 245 246 247 248 249 250 251 252 253 254 255 256 257 258 259 260 261 262 263 264 265 266 267 268 269 270 271 272 273 274 275 276 277 278 279 280 281 282 283 284 285 286 287 288 289 290 291 292 293 294 295 296 297 298 299 300 301 302 303 304 305 306 307 308 309 310 311 312 313 314 315 316 317 318 319 320 321 322 323 324 325 326 327 328 329 330 331 332 333 334 335 336 337 338 339 340 341 342 343 344 345 346 347 348 349 350 351 Done\n"
     ]
    }
   ],
   "source": [
    "vf = vid_frame()\n",
    "pose2d_inputs = []\n",
    "\n",
    "with torch.no_grad():\n",
    "    while True:\n",
    "        try:\n",
    "            img = next(vf)\n",
    "\n",
    "            img_h, img_w = img.shape[:2]\n",
    "            # inps, orig_img, boxes, scores, ids, cropped_boxes\n",
    "            detection_outp = detection_model.process(img).read()\n",
    "\n",
    "            (inps, orig_img, boxes, scores, ids, cropped_boxes) = detection_outp\n",
    "            pose2d_input = (inps[0:1], orig_img, boxes[0:1], scores[0:1], ids[0:1], cropped_boxes[0:1])\n",
    "\n",
    "\n",
    "            # box_img = img.copy()\n",
    "            # for box in boxes:\n",
    "            #     l,t,r,b = np.array(box, np.int32)\n",
    "            #     cv2.rectangle(box_img, (l,t), (r,b), (0,0,255), 3)\n",
    "            #     break\n",
    "\n",
    "            # plt.imshow(box_img)\n",
    "            pose2d_inputs.append(pose2d_input)\n",
    "            print(len(pose2d_inputs), end=\" \")\n",
    "        except Exception as e:\n",
    "            print(\"Done\")\n",
    "            break"
   ]
  },
  {
   "cell_type": "markdown",
   "metadata": {},
   "source": [
    "# Pose 2D Visualize"
   ]
  },
  {
   "cell_type": "code",
   "execution_count": 10,
   "metadata": {},
   "outputs": [],
   "source": [
    "pose3d_inputs = []\n",
    "\n",
    "with torch.no_grad():\n",
    "    for detection_outp in pose2d_inputs:\n",
    "        (inps, orig_img, boxes, scores, ids, cropped_boxes) = detection_outp\n",
    "        hm = pose2d_model(inps.to(\"mps\")).cpu()\n",
    "        pose2d_estimator.save(boxes, scores, ids, hm, cropped_boxes, orig_img)\n",
    "        hp_outp = pose2d_estimator.start()\n",
    "        pose3d_inputs.append(hp_outp)\n",
    "\n",
    "# from simple_pose2d_visualizer import get_pose2d_result\n",
    "# def _a():\n",
    "#     with torch.no_grad():\n",
    "#         for detection_outp in pose2d_inputs:\n",
    "#             (inps, orig_img, boxes, scores, ids, cropped_boxes) = detection_outp\n",
    "#             hm = pose2d_model(inps.to(\"mps\")).cpu()\n",
    "#             pose2d_estimator.save(boxes, scores, ids, hm, cropped_boxes, orig_img)\n",
    "#             hp_outp = pose2d_estimator.start()\n",
    "\n",
    "#             plt.imshow(get_pose2d_result(orig_img[:,:,::-1], hp_outp))\n",
    "#             yield\n",
    "\n",
    "# a = _a()"
   ]
  },
  {
   "cell_type": "markdown",
   "metadata": {},
   "source": [
    "# 3D Pose estimation"
   ]
  },
  {
   "cell_type": "code",
   "execution_count": 11,
   "metadata": {},
   "outputs": [
    {
     "data": {
      "text/plain": [
       "torch.Size([351, 26, 3])"
      ]
     },
     "execution_count": 11,
     "metadata": {},
     "output_type": "execute_result"
    }
   ],
   "source": [
    "keypoints = [torch.concat([hp_outp[\"result\"][0]['keypoints'], hp_outp[\"result\"][0]['kp_score']], dim=-1) for hp_outp in pose3d_inputs]\n",
    "keypoints = torch.stack(keypoints, dim=0)\n",
    "keypoints.shape"
   ]
  },
  {
   "cell_type": "code",
   "execution_count": 12,
   "metadata": {},
   "outputs": [
    {
     "data": {
      "text/plain": [
       "torch.Size([1, 351, 17, 3])"
      ]
     },
     "execution_count": 12,
     "metadata": {},
     "output_type": "execute_result"
    }
   ],
   "source": [
    "from MotionBERT.lib.data.dataset_wild import WildDetDataset\n",
    "\n",
    "wild_dataset = WildDetDataset(\n",
    "    clip_len=keypoints.shape[0],\n",
    "    image_size=pose2d_inputs[0][1].shape[:2][::-1],\n",
    ")\n",
    "\n",
    "for keypoint in keypoints:\n",
    "    wild_dataset.add_data(torch.unsqueeze(keypoint, dim=0))\n",
    "\n",
    "keypoints2d = np.concatenate(wild_dataset.frames, axis=0)\n",
    "keypoints_scores = keypoints2d[...,2]\n",
    "keypoints2d = torch.FloatTensor(keypoints2d)\n",
    "keypoints2d = torch.unsqueeze(keypoints2d, dim=0)\n",
    "keypoints2d.shape"
   ]
  },
  {
   "cell_type": "code",
   "execution_count": 14,
   "metadata": {},
   "outputs": [],
   "source": [
    "import MotionBERT.lib.utils.vismo as vismo\n",
    "from MotionBERT.lib.utils.vismo import motion2video_3d, pixel2world_vis_motion\n",
    "import importlib\n",
    "\n",
    "importlib.reload(vismo)\n",
    "\n",
    "with torch.no_grad():\n",
    "    pose3d_outp = pose3d_model(keypoints2d[:,keypoints2d.shape[1]-243:].to(DEVICE)).cpu()[0]\n",
    "\n",
    "\n",
    "motion = np.transpose(pose3d_outp, (1,2,0))   #(1,17,D) -> (17,D,1) \n",
    "\n",
    "motion_world = pixel2world_vis_motion(motion, dim=3)"
   ]
  },
  {
   "cell_type": "code",
   "execution_count": 15,
   "metadata": {},
   "outputs": [
    {
     "name": "stdout",
     "output_type": "stream",
     "text": [
      "243\n"
     ]
    },
    {
     "name": "stderr",
     "output_type": "stream",
     "text": [
      "/var/folders/xc/8jm9lm450w78w8ccr693xgz80000gn/T/ipykernel_11540/3185775907.py:4: DeprecationWarning: __array__ implementation doesn't accept a copy keyword, so passing copy=False failed. __array__ must implement 'dtype' and 'copy' keyword arguments.\n",
      "  l,t,r,b = np.array(detection_output[2][0], np.int32)\n"
     ]
    }
   ],
   "source": [
    "orig_imges = []\n",
    "for detection_output in pose2d_inputs[keypoints2d.shape[1]-243:]:\n",
    "    orig_img = detection_output[1]\n",
    "    l,t,r,b = np.array(detection_output[2][0], np.int32)\n",
    "\n",
    "    orig_imges.append(orig_img[t:b,l:r])\n",
    "print(len(orig_imges))"
   ]
  },
  {
   "cell_type": "code",
   "execution_count": 17,
   "metadata": {},
   "outputs": [
    {
     "name": "stderr",
     "output_type": "stream",
     "text": [
      "  0%|          | 0/243 [00:00<?, ?it/s]IMAGEIO FFMPEG_WRITER WARNING: input image is not divisible by macro_block_size=16, resizing from (1080, 720) to (1088, 720) to ensure video compatibility with most codecs and players. To prevent resizing, make your input image divisible by the macro_block_size or set the macro_block_size to 1 (risking incompatibility).\n",
      "100%|██████████| 243/243 [00:24<00:00,  9.88it/s]\n"
     ]
    }
   ],
   "source": [
    "motion2video_3d(\n",
    "    orig_imges,\n",
    "    motion_world,\n",
    "    keypoints_scores, \n",
    "    './custom_example_out_6.mp4', \n",
    "    elivation=80,\n",
    "    angle=0,\n",
    "    fps=30\n",
    ")"
   ]
  }
 ],
 "metadata": {
  "kernelspec": {
   "display_name": ".venv",
   "language": "python",
   "name": "python3"
  },
  "language_info": {
   "codemirror_mode": {
    "name": "ipython",
    "version": 3
   },
   "file_extension": ".py",
   "mimetype": "text/x-python",
   "name": "python",
   "nbconvert_exporter": "python",
   "pygments_lexer": "ipython3",
   "version": "3.10.12"
  }
 },
 "nbformat": 4,
 "nbformat_minor": 2
}
